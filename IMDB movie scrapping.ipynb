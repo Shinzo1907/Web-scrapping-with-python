{
 "cells": [
  {
   "cell_type": "code",
   "execution_count": 13,
   "id": "4e957d84-6182-4e89-a4be-63f22f7d6fea",
   "metadata": {},
   "outputs": [],
   "source": [
    "import pandas as pd\n",
    "import requests\n",
    "from bs4 import BeautifulSoup\n"
   ]
  },
  {
   "cell_type": "code",
   "execution_count": 14,
   "id": "7ebfc885-8e49-4c11-8f0f-cea77e2f680b",
   "metadata": {},
   "outputs": [],
   "source": [
    "headers = {\n",
    "    'User-Agent': 'Mozilla/5.0 (Windows NT 10.0; Win64; x64) AppleWebKit/537.36 (KHTML, like Gecko) Chrome/91.0.4472.124 Safari/537.36',\n",
    "}"
   ]
  },
  {
   "cell_type": "code",
   "execution_count": 15,
   "id": "8ceee3bd-e319-421b-afe2-fd9eb3053e29",
   "metadata": {},
   "outputs": [],
   "source": [
    "url=\"https://www.imdb.com/search/title/?count=100&groups=top_1000&sort=user_rating\"\n",
    "response=requests.get(url,headers=headers)"
   ]
  },
  {
   "cell_type": "code",
   "execution_count": null,
   "id": "2ca44931-0efd-4a63-afc6-06ba4a456dc1",
   "metadata": {},
   "outputs": [],
   "source": []
  },
  {
   "cell_type": "code",
   "execution_count": 16,
   "id": "8092f727-71de-4962-86e1-7ca3e9a7e908",
   "metadata": {},
   "outputs": [],
   "source": [
    "## this will give the content of the web page\n",
    "soup=BeautifulSoup(response.content,\"html.parser\")\n",
    "# soup"
   ]
  },
  {
   "cell_type": "code",
   "execution_count": 17,
   "id": "1eeb5654-13b5-48c4-9ef2-bafed42d6e74",
   "metadata": {},
   "outputs": [],
   "source": [
    "movies_name=[]\n",
    "year=[]\n",
    "time=[]\n",
    "raiting=[]\n",
    "metascore=[]"
   ]
  },
  {
   "cell_type": "code",
   "execution_count": 18,
   "id": "b59e8c7a-8c90-4c66-bef6-f680aefefdfe",
   "metadata": {},
   "outputs": [],
   "source": [
    "movie_data=soup.findAll('li', class_='ipc-metadata-list-summary-item')"
   ]
  },
  {
   "cell_type": "code",
   "execution_count": 19,
   "id": "d86e0a50-00d2-4e24-91c4-0778f96d2c18",
   "metadata": {},
   "outputs": [],
   "source": [
    "# movie_data"
   ]
  },
  {
   "cell_type": "code",
   "execution_count": 20,
   "id": "22554ada-76d6-4f10-be8f-472399d47337",
   "metadata": {},
   "outputs": [
    {
     "name": "stdout",
     "output_type": "stream",
     "text": [
      "['/title/tt5463162/?ref_=sr_i_1', '/title/tt12037194/?ref_=sr_i_2', '/title/tt0241527/?ref_=sr_i_3', '/title/tt7131622/?ref_=sr_i_4', '/title/tt5537002/?ref_=sr_i_5', '/title/tt0409459/?ref_=sr_i_6', '/title/tt19770238/?ref_=sr_i_7', '/title/tt0416449/?ref_=sr_i_8', '/title/tt2582782/?ref_=sr_i_9', '/title/tt0119116/?ref_=sr_i_10', '/title/tt0151804/?ref_=sr_i_11', '/title/tt0387564/?ref_=sr_i_12', '/title/tt0093870/?ref_=sr_i_13', '/title/tt13833688/?ref_=sr_i_14', '/title/tt9071322/?ref_=sr_i_15', '/title/tt0486655/?ref_=sr_i_16', '/title/tt0104952/?ref_=sr_i_17', '/title/tt0121766/?ref_=sr_i_18', '/title/tt0289879/?ref_=sr_i_19', '/title/tt1210166/?ref_=sr_i_20', '/title/tt0230600/?ref_=sr_i_21', '/title/tt0441773/?ref_=sr_i_22', '/title/tt0181689/?ref_=sr_i_23', '/title/tt0381849/?ref_=sr_i_24', '/title/tt3416742/?ref_=sr_i_25']\n"
     ]
    }
   ],
   "source": [
    "\n",
    "links = []\n",
    "for i in movie_data:\n",
    "    # print(a)\n",
    "    a = i.find('a')\n",
    "    link = a.get('href')\n",
    "    # print(link)\n",
    "    links.append(link)\n",
    "\n",
    "print(links)"
   ]
  },
  {
   "cell_type": "code",
   "execution_count": 22,
   "id": "a7006ad7-c668-47e5-b9b8-29702cb0a42f",
   "metadata": {},
   "outputs": [
    {
     "name": "stdout",
     "output_type": "stream",
     "text": [
      "https://www.imdb.com/title/tt5463162/?ref_=sr_i_1\n",
      "Deadpool 2\n",
      "{'name': 'Deadpool 2', 'year': 'Not available', 'category': 'Not available', 'duration': 'Not available', 'movie_details_rating': 'Not available', 'movie_director_details': 'David Leitch', 'writers': ['Rhett Reese', 'Paul Wernick', 'Ryan Reynolds']}\n",
      "https://www.imdb.com/title/tt12037194/?ref_=sr_i_2\n",
      "Furiosa: A Mad Max Saga\n",
      "{'name': 'Furiosa: A Mad Max Saga', 'year': 'Not available', 'category': 'Not available', 'duration': 'Not available', 'movie_details_rating': 'Not available', 'movie_director_details': 'George Miller', 'writers': ['Anya Taylor-Joy', 'Chris Hemsworth', 'Tom Burke']}\n",
      "https://www.imdb.com/title/tt0241527/?ref_=sr_i_3\n",
      "Harry Potter and the Philosopher's Stone\n",
      "{'name': \"Harry Potter and the Philosopher's Stone\", 'year': 'Not available', 'category': 'Not available', 'duration': 'Not available', 'movie_details_rating': 'Not available', 'movie_director_details': 'Chris Columbus', 'writers': ['Daniel Radcliffe', 'Rupert Grint', 'Emma Watson']}\n",
      "https://www.imdb.com/title/tt7131622/?ref_=sr_i_4\n",
      "Once Upon a Time... In Hollywood\n",
      "{'name': 'Once Upon a Time... In Hollywood', 'year': 'Not available', 'category': 'Not available', 'duration': 'Not available', 'movie_details_rating': 'Not available', 'movie_director_details': 'Quentin Tarantino', 'writers': ['Leonardo DiCaprio', 'Brad Pitt', 'Margot Robbie']}\n",
      "https://www.imdb.com/title/tt5537002/?ref_=sr_i_5\n",
      "Killers of the Flower Moon\n",
      "{'name': 'Killers of the Flower Moon', 'year': 'Not available', 'category': 'Not available', 'duration': 'Not available', 'movie_details_rating': 'Not available', 'movie_director_details': 'Martin Scorsese', 'writers': ['Leonardo DiCaprio', 'Robert De Niro', 'Lily Gladstone']}\n",
      "https://www.imdb.com/title/tt0409459/?ref_=sr_i_6\n",
      "Watchmen\n",
      "{'name': 'Watchmen', 'year': 'Not available', 'category': 'Not available', 'duration': 'Not available', 'movie_details_rating': 'Not available', 'movie_director_details': 'Zack Snyder', 'writers': ['Jackie Earle Haley', 'Patrick Wilson', 'Carla Gugino']}\n",
      "https://www.imdb.com/title/tt19770238/?ref_=sr_i_7\n",
      "Aftersun\n",
      "{'name': 'Aftersun', 'year': 'Not available', 'category': 'Not available', 'duration': 'Not available', 'movie_details_rating': 'Not available', 'movie_director_details': 'Charlotte Wells', 'writers': ['Paul Mescal', 'Frankie Corio', 'Celia Rowlson-Hall']}\n",
      "https://www.imdb.com/title/tt0416449/?ref_=sr_i_8\n",
      "300\n",
      "{'name': '300', 'year': 'Not available', 'category': 'Not available', 'duration': 'Not available', 'movie_details_rating': 'Not available', 'movie_director_details': 'Zack Snyder', 'writers': ['Zack Snyder', 'Kurt Johnstad', 'Michael B. Gordon']}\n",
      "https://www.imdb.com/title/tt2582782/?ref_=sr_i_9\n",
      "Hell or High Water\n",
      "{'name': 'Hell or High Water', 'year': 'Not available', 'category': 'Not available', 'duration': 'Not available', 'movie_details_rating': 'Not available', 'movie_director_details': 'David Mackenzie', 'writers': ['Chris Pine', 'Ben Foster', 'Jeff Bridges']}\n",
      "https://www.imdb.com/title/tt0119116/?ref_=sr_i_10\n",
      "The Fifth Element\n",
      "{'name': 'The Fifth Element', 'year': 'Not available', 'category': 'Not available', 'duration': 'Not available', 'movie_details_rating': 'Not available', 'movie_director_details': 'Luc Besson', 'writers': ['Luc Besson', 'Robert Mark Kamen']}\n",
      "https://www.imdb.com/title/tt0151804/?ref_=sr_i_11\n",
      "Office Space\n",
      "{'name': 'Office Space', 'year': 'Not available', 'category': 'Not available', 'duration': 'Not available', 'movie_details_rating': 'Not available', 'movie_director_details': 'Mike Judge', 'writers': ['Mike Judge']}\n",
      "https://www.imdb.com/title/tt0387564/?ref_=sr_i_12\n",
      "Saw\n",
      "{'name': 'Saw', 'year': 'Not available', 'category': 'Not available', 'duration': 'Not available', 'movie_details_rating': 'Not available', 'movie_director_details': 'James Wan', 'writers': ['Leigh Whannell', 'James Wan']}\n",
      "https://www.imdb.com/title/tt0093870/?ref_=sr_i_13\n",
      "RoboCop\n",
      "{'name': 'RoboCop', 'year': 'Not available', 'category': 'Not available', 'duration': 'Not available', 'movie_details_rating': 'Not available', 'movie_director_details': 'Paul Verhoeven', 'writers': ['Peter Weller', 'Nancy Allen', \"Dan O'Herlihy\"]}\n",
      "https://www.imdb.com/title/tt13833688/?ref_=sr_i_14\n",
      "The Whale\n",
      "{'name': 'The Whale', 'year': 'Not available', 'category': 'Not available', 'duration': 'Not available', 'movie_details_rating': 'Not available', 'movie_director_details': 'Darren Aronofsky', 'writers': ['Samuel D. Hunter']}\n",
      "https://www.imdb.com/title/tt9071322/?ref_=sr_i_15\n",
      "Dark Waters\n",
      "{'name': 'Dark Waters', 'year': 'Not available', 'category': 'Not available', 'duration': 'Not available', 'movie_details_rating': 'Not available', 'movie_director_details': 'Todd Haynes', 'writers': ['Mark Ruffalo', 'Anne Hathaway', 'Tim Robbins']}\n",
      "https://www.imdb.com/title/tt0486655/?ref_=sr_i_16\n",
      "Stardust\n",
      "{'name': 'Stardust', 'year': 'Not available', 'category': 'Not available', 'duration': 'Not available', 'movie_details_rating': 'Not available', 'movie_director_details': 'Matthew Vaughn', 'writers': ['Charlie Cox', 'Claire Danes', 'Sienna Miller']}\n",
      "https://www.imdb.com/title/tt0104952/?ref_=sr_i_17\n",
      "My Cousin Vinny\n",
      "{'name': 'My Cousin Vinny', 'year': 'Not available', 'category': 'Not available', 'duration': 'Not available', 'movie_details_rating': 'Not available', 'movie_director_details': 'Jonathan Lynn', 'writers': ['Joe Pesci', 'Marisa Tomei', 'Ralph Macchio']}\n",
      "https://www.imdb.com/title/tt0121766/?ref_=sr_i_18\n",
      "Star Wars: Episode III - Revenge of the Sith\n",
      "{'name': 'Star Wars: Episode III - Revenge of the Sith', 'year': 'Not available', 'category': 'Not available', 'duration': 'Not available', 'movie_details_rating': 'Not available', 'movie_director_details': 'George Lucas', 'writers': ['Hayden Christensen', 'Natalie Portman', 'Ewan McGregor']}\n",
      "https://www.imdb.com/title/tt0289879/?ref_=sr_i_19\n",
      "The Butterfly Effect\n",
      "{'name': 'The Butterfly Effect', 'year': 'Not available', 'category': 'Not available', 'duration': 'Not available', 'movie_details_rating': 'Not available', 'movie_director_details': 'Eric Bress', 'writers': ['Ashton Kutcher', 'Amy Smart', 'Melora Walters']}\n",
      "https://www.imdb.com/title/tt1210166/?ref_=sr_i_20\n",
      "Moneyball\n",
      "{'name': 'Moneyball', 'year': 'Not available', 'category': 'Not available', 'duration': 'Not available', 'movie_details_rating': 'Not available', 'movie_director_details': 'Bennett Miller', 'writers': ['Steven Zaillian', 'Aaron Sorkin', 'Stan Chervin']}\n",
      "https://www.imdb.com/title/tt0230600/?ref_=sr_i_21\n",
      "The Others\n",
      "{'name': 'The Others', 'year': 'Not available', 'category': 'Not available', 'duration': 'Not available', 'movie_details_rating': 'Not available', 'movie_director_details': 'Alejandro Amenábar', 'writers': ['Nicole Kidman', 'Christopher Eccleston', 'Fionnula Flanagan']}\n",
      "https://www.imdb.com/title/tt0441773/?ref_=sr_i_22\n",
      "Kung Fu Panda\n",
      "{'name': 'Kung Fu Panda', 'year': 'Not available', 'category': 'Not available', 'duration': 'Not available', 'movie_details_rating': 'Not available', 'movie_director_details': 'Mark Osborne', 'writers': ['Jonathan Aibel', 'Glenn Berger', 'Ethan Reiff']}\n",
      "https://www.imdb.com/title/tt0181689/?ref_=sr_i_23\n",
      "Minority Report\n",
      "{'name': 'Minority Report', 'year': 'Not available', 'category': 'Not available', 'duration': 'Not available', 'movie_details_rating': 'Not available', 'movie_director_details': 'Steven Spielberg', 'writers': ['Tom Cruise', 'Colin Farrell', 'Samantha Morton']}\n",
      "https://www.imdb.com/title/tt0381849/?ref_=sr_i_24\n",
      "3:10 to Yuma\n",
      "{'name': '3:10 to Yuma', 'year': 'Not available', 'category': 'Not available', 'duration': 'Not available', 'movie_details_rating': 'Not available', 'movie_director_details': 'James Mangold', 'writers': ['Halsted Welles', 'Michael Brandt', 'Derek Haas']}\n",
      "https://www.imdb.com/title/tt3416742/?ref_=sr_i_25\n",
      "What We Do in the Shadows\n",
      "{'name': 'What We Do in the Shadows', 'year': 'Not available', 'category': 'Not available', 'duration': 'Not available', 'movie_details_rating': 'Not available', 'movie_director_details': 'Jemaine Clement', 'writers': ['Jemaine Clement', 'Taika Waititi', 'Cori Gonzalez-Macuer']}\n"
     ]
    }
   ],
   "source": [
    "movie_meta_data = []\n",
    "for link in links:\n",
    "    movie_link = \"https://www.imdb.com\" + link\n",
    "\n",
    "    movie_response = requests.get(movie_link, headers=headers)\n",
    "    movie_soup = BeautifulSoup(movie_response.content, 'html.parser')\n",
    "    print(movie_link)  # For debugging\n",
    "    movie_meta = {}\n",
    "\n",
    "    name = movie_soup.find('span', class_='hero__primary-text').text.strip() if movie_soup.find('span', class_='hero__primary-text') else \"Not available\"\n",
    "    print(name)  # For debugging\n",
    "\n",
    "    movie_details_soup = movie_soup.find('ul', class_='ipc-inline-list ipc-inline-list--show-dividers sc-d8941411-2 cdJsTz baseAlt')\n",
    "    if movie_details_soup:\n",
    "        details = movie_details_soup.findAll('li')\n",
    "        if len(details) >= 3:\n",
    "            year = details[0].text.strip()\n",
    "            category = details[1].text.strip()\n",
    "            duration = details[2].text.strip()\n",
    "        else:\n",
    "            year = category = duration = \"Not available\"\n",
    "    else:\n",
    "        year = category = duration = \"Not available\"\n",
    "\n",
    "    movie_details_rating = movie_soup.find('div', class_=\"sc-eb51e184-2 czkfBq\").text.strip() if movie_soup.find('div', class_=\"sc-eb51e184-2 czkfBq\") else \"Not available\"\n",
    "    \n",
    "    movie_director_details = movie_soup.find('li', class_=\"ipc-metadata-list__item\").find('a', class_='ipc-metadata-list-item__list-content-item ipc-metadata-list-item__list-content-item--link').text.strip() if movie_soup.find('li', class_=\"ipc-metadata-list__item\") else \"Not available\"\n",
    "\n",
    "    writer_div = movie_soup.find('li', class_=\"ipc-metadata-list__item ipc-metadata-list-item--link\")\n",
    "    writers = []\n",
    "    if writer_div:\n",
    "        writer_ul = writer_div.find('ul', class_=\"ipc-inline-list ipc-inline-list--show-dividers ipc-inline-list--inline ipc-metadata-list-item__list-content baseAlt\")\n",
    "        if writer_ul:\n",
    "            for w in writer_ul.findAll('li'):\n",
    "                w_name = w.text.strip()\n",
    "                writers.append(w_name)\n",
    "        else:\n",
    "            writers = [\"Not available\"]\n",
    "    else:\n",
    "        writers = [\"Not available\"]\n",
    "\n",
    "    movie_meta[\"name\"] = name\n",
    "    movie_meta[\"year\"] = year\n",
    "    movie_meta[\"category\"] = category\n",
    "    movie_meta[\"duration\"] = duration\n",
    "    movie_meta[\"movie_details_rating\"] = movie_details_rating\n",
    "    movie_meta[\"movie_director_details\"] = movie_director_details\n",
    "    movie_meta[\"writers\"] = writers\n",
    "\n",
    "    print(movie_meta)  # For debugging\n",
    "\n",
    "    movie_meta_data.append(movie_meta)\n"
   ]
  },
  {
   "cell_type": "code",
   "execution_count": 24,
   "id": "0fcaae92-ec9f-46d0-b107-94f3e89c8867",
   "metadata": {},
   "outputs": [
    {
     "name": "stdout",
     "output_type": "stream",
     "text": [
      "                                            name           year  \\\n",
      "0                                     Deadpool 2  Not available   \n",
      "1                        Furiosa: A Mad Max Saga  Not available   \n",
      "2       Harry Potter and the Philosopher's Stone  Not available   \n",
      "3               Once Upon a Time... In Hollywood  Not available   \n",
      "4                     Killers of the Flower Moon  Not available   \n",
      "5                                       Watchmen  Not available   \n",
      "6                                       Aftersun  Not available   \n",
      "7                                            300  Not available   \n",
      "8                             Hell or High Water  Not available   \n",
      "9                              The Fifth Element  Not available   \n",
      "10                                  Office Space  Not available   \n",
      "11                                           Saw  Not available   \n",
      "12                                       RoboCop  Not available   \n",
      "13                                     The Whale  Not available   \n",
      "14                                   Dark Waters  Not available   \n",
      "15                                      Stardust  Not available   \n",
      "16                               My Cousin Vinny  Not available   \n",
      "17  Star Wars: Episode III - Revenge of the Sith  Not available   \n",
      "18                          The Butterfly Effect  Not available   \n",
      "19                                     Moneyball  Not available   \n",
      "\n",
      "         category       duration movie_details_rating movie_director_details  \\\n",
      "0   Not available  Not available        Not available           David Leitch   \n",
      "1   Not available  Not available        Not available          George Miller   \n",
      "2   Not available  Not available        Not available         Chris Columbus   \n",
      "3   Not available  Not available        Not available      Quentin Tarantino   \n",
      "4   Not available  Not available        Not available        Martin Scorsese   \n",
      "5   Not available  Not available        Not available            Zack Snyder   \n",
      "6   Not available  Not available        Not available        Charlotte Wells   \n",
      "7   Not available  Not available        Not available            Zack Snyder   \n",
      "8   Not available  Not available        Not available        David Mackenzie   \n",
      "9   Not available  Not available        Not available             Luc Besson   \n",
      "10  Not available  Not available        Not available             Mike Judge   \n",
      "11  Not available  Not available        Not available              James Wan   \n",
      "12  Not available  Not available        Not available         Paul Verhoeven   \n",
      "13  Not available  Not available        Not available       Darren Aronofsky   \n",
      "14  Not available  Not available        Not available            Todd Haynes   \n",
      "15  Not available  Not available        Not available         Matthew Vaughn   \n",
      "16  Not available  Not available        Not available          Jonathan Lynn   \n",
      "17  Not available  Not available        Not available           George Lucas   \n",
      "18  Not available  Not available        Not available             Eric Bress   \n",
      "19  Not available  Not available        Not available         Bennett Miller   \n",
      "\n",
      "                                              writers  \n",
      "0          [Rhett Reese, Paul Wernick, Ryan Reynolds]  \n",
      "1       [Anya Taylor-Joy, Chris Hemsworth, Tom Burke]  \n",
      "2       [Daniel Radcliffe, Rupert Grint, Emma Watson]  \n",
      "3       [Leonardo DiCaprio, Brad Pitt, Margot Robbie]  \n",
      "4   [Leonardo DiCaprio, Robert De Niro, Lily Glads...  \n",
      "5   [Jackie Earle Haley, Patrick Wilson, Carla Gug...  \n",
      "6    [Paul Mescal, Frankie Corio, Celia Rowlson-Hall]  \n",
      "7     [Zack Snyder, Kurt Johnstad, Michael B. Gordon]  \n",
      "8              [Chris Pine, Ben Foster, Jeff Bridges]  \n",
      "9                     [Luc Besson, Robert Mark Kamen]  \n",
      "10                                       [Mike Judge]  \n",
      "11                        [Leigh Whannell, James Wan]  \n",
      "12         [Peter Weller, Nancy Allen, Dan O'Herlihy]  \n",
      "13                                 [Samuel D. Hunter]  \n",
      "14         [Mark Ruffalo, Anne Hathaway, Tim Robbins]  \n",
      "15         [Charlie Cox, Claire Danes, Sienna Miller]  \n",
      "16           [Joe Pesci, Marisa Tomei, Ralph Macchio]  \n",
      "17  [Hayden Christensen, Natalie Portman, Ewan McG...  \n",
      "18        [Ashton Kutcher, Amy Smart, Melora Walters]  \n",
      "19      [Steven Zaillian, Aaron Sorkin, Stan Chervin]  \n"
     ]
    }
   ],
   "source": [
    "df = pd.DataFrame(movie_meta_data)\n",
    "print(df)"
   ]
  }
 ],
 "metadata": {
  "kernelspec": {
   "display_name": "Python 3 (ipykernel)",
   "language": "python",
   "name": "python3"
  },
  "language_info": {
   "codemirror_mode": {
    "name": "ipython",
    "version": 3
   },
   "file_extension": ".py",
   "mimetype": "text/x-python",
   "name": "python",
   "nbconvert_exporter": "python",
   "pygments_lexer": "ipython3",
   "version": "3.11.9"
  }
 },
 "nbformat": 4,
 "nbformat_minor": 5
}
